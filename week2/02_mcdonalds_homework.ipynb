{
 "cells": [
  {
   "cell_type": "markdown",
   "metadata": {},
   "source": [
    "# Homework with McDonald's sentiment data"
   ]
  },
  {
   "cell_type": "markdown",
   "metadata": {},
   "source": [
    "## Imaginary problem statement\n",
    "\n",
    "McDonald's receives **thousands of customer comments** on their website per day, and many of them are negative. Their corporate employees don't have time to read every single comment, but they do want to read a subset of comments that they are most interested in. In particular, the media has recently portrayed their employees as being rude, and so they want to review any comments about **rude service** so that they can update their employee training accordingly.\n",
    "\n",
    "McDonald's has hired you to develop a system that ranks each comment by the **likelihood that it is referring to rude service**. They will use your system to build a \"rudeness dashboard\" for their corporate employees, so that employees can spend a few minutes each day examining the **most relevant recent comments**.\n",
    "\n",
    "## Description of the data\n",
    "\n",
    "Before hiring you, McDonald's used the [CrowdFlower platform](http://www.crowdflower.com/data-for-everyone) to pay humans to **hand-annotate** about 1500 comments with the **type of complaint**. The complaint types are listed below, with the encoding used in the data listed in parentheses:\n",
    "\n",
    "- Bad Food (BadFood)\n",
    "- Bad Neighborhood (ScaryMcDs)\n",
    "- Cost (Cost)\n",
    "- Dirty Location (Filthy)\n",
    "- Missing Item (MissingFood)\n",
    "- Problem with Order (OrderProblem)\n",
    "- Rude Service (RudeService)\n",
    "- Slow Service (SlowService)\n",
    "- None of the above (na)"
   ]
  },
  {
   "cell_type": "markdown",
   "metadata": {},
   "source": [
    "## Task 1\n",
    "\n",
    "Read **`mcdonalds.csv`** into a pandas DataFrame and examine it. (It can be found in the **`data`** directory of the course repository.)\n",
    "\n",
    "- The **policies_violated** column lists the type of complaint. If there is more than one type, the types are separated by newline characters.\n",
    "- The **policies_violated:confidence** column lists CrowdFlower's confidence in the judgments of its human annotators for that row (higher is better).\n",
    "- The **city** column is the McDonald's location.\n",
    "- The **review** column is the actual text comment."
   ]
  },
  {
   "cell_type": "code",
   "execution_count": 1,
   "metadata": {
    "collapsed": true
   },
   "outputs": [],
   "source": [
    "# use print only as a function\n",
    "from __future__ import print_function"
   ]
  },
  {
   "cell_type": "code",
   "execution_count": 2,
   "metadata": {
    "collapsed": false
   },
   "outputs": [
    {
     "data": {
      "text/html": [
       "<div>\n",
       "<table border=\"1\" class=\"dataframe\">\n",
       "  <thead>\n",
       "    <tr style=\"text-align: right;\">\n",
       "      <th></th>\n",
       "      <th>_unit_id</th>\n",
       "      <th>_golden</th>\n",
       "      <th>_unit_state</th>\n",
       "      <th>_trusted_judgments</th>\n",
       "      <th>_last_judgment_at</th>\n",
       "      <th>policies_violated</th>\n",
       "      <th>policies_violated:confidence</th>\n",
       "      <th>city</th>\n",
       "      <th>policies_violated_gold</th>\n",
       "      <th>review</th>\n",
       "      <th>Unnamed: 10</th>\n",
       "    </tr>\n",
       "  </thead>\n",
       "  <tbody>\n",
       "    <tr>\n",
       "      <th>0</th>\n",
       "      <td>679455653</td>\n",
       "      <td>False</td>\n",
       "      <td>finalized</td>\n",
       "      <td>3</td>\n",
       "      <td>2/21/15 0:36</td>\n",
       "      <td>RudeService\\nOrderProblem\\nFilthy</td>\n",
       "      <td>1.0\\n0.6667\\n0.6667</td>\n",
       "      <td>Atlanta</td>\n",
       "      <td>NaN</td>\n",
       "      <td>I'm not a huge mcds lover, but I've been to be...</td>\n",
       "      <td>NaN</td>\n",
       "    </tr>\n",
       "    <tr>\n",
       "      <th>1</th>\n",
       "      <td>679455654</td>\n",
       "      <td>False</td>\n",
       "      <td>finalized</td>\n",
       "      <td>3</td>\n",
       "      <td>2/21/15 0:27</td>\n",
       "      <td>RudeService</td>\n",
       "      <td>1</td>\n",
       "      <td>Atlanta</td>\n",
       "      <td>NaN</td>\n",
       "      <td>Terrible customer service. ŒæI came in at 9:30...</td>\n",
       "      <td>NaN</td>\n",
       "    </tr>\n",
       "  </tbody>\n",
       "</table>\n",
       "</div>"
      ],
      "text/plain": [
       "    _unit_id _golden _unit_state  _trusted_judgments _last_judgment_at  \\\n",
       "0  679455653   False   finalized                   3      2/21/15 0:36   \n",
       "1  679455654   False   finalized                   3      2/21/15 0:27   \n",
       "\n",
       "                   policies_violated policies_violated:confidence     city  \\\n",
       "0  RudeService\\nOrderProblem\\nFilthy          1.0\\n0.6667\\n0.6667  Atlanta   \n",
       "1                        RudeService                            1  Atlanta   \n",
       "\n",
       "   policies_violated_gold                                             review  \\\n",
       "0                     NaN  I'm not a huge mcds lover, but I've been to be...   \n",
       "1                     NaN  Terrible customer service. ŒæI came in at 9:30...   \n",
       "\n",
       "   Unnamed: 10  \n",
       "0          NaN  \n",
       "1          NaN  "
      ]
     },
     "execution_count": 2,
     "metadata": {},
     "output_type": "execute_result"
    }
   ],
   "source": [
    "import pandas as pd\n",
    "\n",
    "# alternative: read file into Pandas using a relative path\n",
    "path = '../data/mcdonalds.csv'\n",
    "mcd_raw = pd.read_csv(path)\n",
    "mcd_raw.head(2)"
   ]
  },
  {
   "cell_type": "markdown",
   "metadata": {},
   "source": [
    "## Task 2\n",
    "\n",
    "Remove any rows from the DataFrame in which the **policies_violated** column has a **null value**. Check the shape of the DataFrame before and after to confirm that you only removed about 50 rows.\n",
    "\n",
    "- **Note:** Null values are also known as \"missing values\", and are encoded in pandas with the special value \"NaN\". This is distinct from the \"na\" encoding used by CrowdFlower to denote \"None of the above\". Rows that contain \"na\" should **not** be removed.\n",
    "- **Hint:** This [code snippet](http://chrisalbon.com/python/pandas_missing_data.html) shows different ways for handling missing data in pandas, and includes one strategy that will work for this task."
   ]
  },
  {
   "cell_type": "code",
   "execution_count": 3,
   "metadata": {
    "collapsed": false
   },
   "outputs": [
    {
     "name": "stdout",
     "output_type": "stream",
     "text": [
      "Shape before (1525, 11)\n",
      "Shape after (1471, 11)\n"
     ]
    }
   ],
   "source": [
    "print(\"Shape before\", mcd_raw.shape)\n",
    "mcd = mcd_raw.dropna(subset = ['policies_violated'])\n",
    "print(\"Shape after\", mcd.shape)"
   ]
  },
  {
   "cell_type": "markdown",
   "metadata": {},
   "source": [
    "## Task 3\n",
    "\n",
    "Add a new column to the DataFrame called **\"rude\"** that is 1 if the **policies_violated** column contains the text \"RudeService\", and 0 if the **policies_violated** column does not contain \"RudeService\". The \"rude\" column is going to be your response variable, so check how many zeros and ones it contains.\n",
    "\n",
    "- **Hint:** This [code snippet](http://chrisalbon.com/python/pandas_string_munging.html) shows how to use a pandas string method to search for the presence of a sub-string. You will also have to figure out how to convert the boolean results (True/False) to integers (1/0)."
   ]
  },
  {
   "cell_type": "code",
   "execution_count": 4,
   "metadata": {
    "collapsed": false
   },
   "outputs": [
    {
     "data": {
      "text/html": [
       "<div>\n",
       "<table border=\"1\" class=\"dataframe\">\n",
       "  <thead>\n",
       "    <tr style=\"text-align: right;\">\n",
       "      <th></th>\n",
       "      <th>_unit_id</th>\n",
       "      <th>_golden</th>\n",
       "      <th>_unit_state</th>\n",
       "      <th>_trusted_judgments</th>\n",
       "      <th>_last_judgment_at</th>\n",
       "      <th>policies_violated</th>\n",
       "      <th>policies_violated:confidence</th>\n",
       "      <th>city</th>\n",
       "      <th>policies_violated_gold</th>\n",
       "      <th>review</th>\n",
       "      <th>Unnamed: 10</th>\n",
       "      <th>rude</th>\n",
       "    </tr>\n",
       "  </thead>\n",
       "  <tbody>\n",
       "    <tr>\n",
       "      <th>0</th>\n",
       "      <td>679455653</td>\n",
       "      <td>False</td>\n",
       "      <td>finalized</td>\n",
       "      <td>3</td>\n",
       "      <td>2/21/15 0:36</td>\n",
       "      <td>RudeService\\nOrderProblem\\nFilthy</td>\n",
       "      <td>1.0\\n0.6667\\n0.6667</td>\n",
       "      <td>Atlanta</td>\n",
       "      <td>NaN</td>\n",
       "      <td>I'm not a huge mcds lover, but I've been to be...</td>\n",
       "      <td>NaN</td>\n",
       "      <td>1</td>\n",
       "    </tr>\n",
       "    <tr>\n",
       "      <th>1</th>\n",
       "      <td>679455654</td>\n",
       "      <td>False</td>\n",
       "      <td>finalized</td>\n",
       "      <td>3</td>\n",
       "      <td>2/21/15 0:27</td>\n",
       "      <td>RudeService</td>\n",
       "      <td>1</td>\n",
       "      <td>Atlanta</td>\n",
       "      <td>NaN</td>\n",
       "      <td>Terrible customer service. ŒæI came in at 9:30...</td>\n",
       "      <td>NaN</td>\n",
       "      <td>1</td>\n",
       "    </tr>\n",
       "    <tr>\n",
       "      <th>2</th>\n",
       "      <td>679455655</td>\n",
       "      <td>False</td>\n",
       "      <td>finalized</td>\n",
       "      <td>3</td>\n",
       "      <td>2/21/15 0:26</td>\n",
       "      <td>SlowService\\nOrderProblem</td>\n",
       "      <td>1.0\\n1.0</td>\n",
       "      <td>Atlanta</td>\n",
       "      <td>NaN</td>\n",
       "      <td>First they \"lost\" my order, actually they gave...</td>\n",
       "      <td>NaN</td>\n",
       "      <td>0</td>\n",
       "    </tr>\n",
       "    <tr>\n",
       "      <th>3</th>\n",
       "      <td>679455656</td>\n",
       "      <td>False</td>\n",
       "      <td>finalized</td>\n",
       "      <td>3</td>\n",
       "      <td>2/21/15 0:27</td>\n",
       "      <td>na</td>\n",
       "      <td>0.6667</td>\n",
       "      <td>Atlanta</td>\n",
       "      <td>NaN</td>\n",
       "      <td>I see I'm not the only one giving 1 star. Only...</td>\n",
       "      <td>NaN</td>\n",
       "      <td>0</td>\n",
       "    </tr>\n",
       "    <tr>\n",
       "      <th>4</th>\n",
       "      <td>679455657</td>\n",
       "      <td>False</td>\n",
       "      <td>finalized</td>\n",
       "      <td>3</td>\n",
       "      <td>2/21/15 0:27</td>\n",
       "      <td>RudeService</td>\n",
       "      <td>1</td>\n",
       "      <td>Atlanta</td>\n",
       "      <td>NaN</td>\n",
       "      <td>Well, it's McDonald's, so you know what the fo...</td>\n",
       "      <td>NaN</td>\n",
       "      <td>1</td>\n",
       "    </tr>\n",
       "  </tbody>\n",
       "</table>\n",
       "</div>"
      ],
      "text/plain": [
       "    _unit_id _golden _unit_state  _trusted_judgments _last_judgment_at  \\\n",
       "0  679455653   False   finalized                   3      2/21/15 0:36   \n",
       "1  679455654   False   finalized                   3      2/21/15 0:27   \n",
       "2  679455655   False   finalized                   3      2/21/15 0:26   \n",
       "3  679455656   False   finalized                   3      2/21/15 0:27   \n",
       "4  679455657   False   finalized                   3      2/21/15 0:27   \n",
       "\n",
       "                   policies_violated policies_violated:confidence     city  \\\n",
       "0  RudeService\\nOrderProblem\\nFilthy          1.0\\n0.6667\\n0.6667  Atlanta   \n",
       "1                        RudeService                            1  Atlanta   \n",
       "2          SlowService\\nOrderProblem                     1.0\\n1.0  Atlanta   \n",
       "3                                 na                       0.6667  Atlanta   \n",
       "4                        RudeService                            1  Atlanta   \n",
       "\n",
       "   policies_violated_gold                                             review  \\\n",
       "0                     NaN  I'm not a huge mcds lover, but I've been to be...   \n",
       "1                     NaN  Terrible customer service. ŒæI came in at 9:30...   \n",
       "2                     NaN  First they \"lost\" my order, actually they gave...   \n",
       "3                     NaN  I see I'm not the only one giving 1 star. Only...   \n",
       "4                     NaN  Well, it's McDonald's, so you know what the fo...   \n",
       "\n",
       "   Unnamed: 10  rude  \n",
       "0          NaN     1  \n",
       "1          NaN     1  \n",
       "2          NaN     0  \n",
       "3          NaN     0  \n",
       "4          NaN     1  "
      ]
     },
     "execution_count": 4,
     "metadata": {},
     "output_type": "execute_result"
    }
   ],
   "source": [
    "rude_col = mcd['policies_violated'].str.contains('RudeService')\n",
    "rude_col = rude_col.astype(int)\n",
    "mcd.insert(len(mcd.columns), \"rude\", rude_col)\n",
    "mcd.head(5)"
   ]
  },
  {
   "cell_type": "code",
   "execution_count": 5,
   "metadata": {
    "collapsed": false
   },
   "outputs": [
    {
     "data": {
      "text/plain": [
       "0    968\n",
       "1    503\n",
       "Name: rude, dtype: int64"
      ]
     },
     "execution_count": 5,
     "metadata": {},
     "output_type": "execute_result"
    }
   ],
   "source": [
    "mcd.rude.value_counts(sort=True)"
   ]
  },
  {
   "cell_type": "markdown",
   "metadata": {},
   "source": [
    "## Task 4\n",
    "\n",
    "1. Define X (the **review** column) and y (the **rude** column).\n",
    "2. Split X and y into training and testing sets (using the parameter **`random_state=1`**).\n",
    "3. Use CountVectorizer (with the **default parameters**) to create document-term matrices from X_train and X_test."
   ]
  },
  {
   "cell_type": "code",
   "execution_count": 6,
   "metadata": {
    "collapsed": true
   },
   "outputs": [],
   "source": [
    "X = mcd.review\n",
    "y = mcd.rude"
   ]
  },
  {
   "cell_type": "code",
   "execution_count": 7,
   "metadata": {
    "collapsed": false
   },
   "outputs": [
    {
     "name": "stdout",
     "output_type": "stream",
     "text": [
      "(1103,)\n",
      "(368,)\n"
     ]
    }
   ],
   "source": [
    "# split X and y into training and testing sets\n",
    "from sklearn.cross_validation import train_test_split\n",
    "X_train, X_test, y_train, y_test = train_test_split(X, y, random_state=1)\n",
    "print(X_train.shape)\n",
    "print(X_test.shape)"
   ]
  },
  {
   "cell_type": "code",
   "execution_count": 8,
   "metadata": {
    "collapsed": false
   },
   "outputs": [
    {
     "name": "stdout",
     "output_type": "stream",
     "text": [
      "(1103, 7300) (368, 7300)\n"
     ]
    }
   ],
   "source": [
    "from sklearn.feature_extraction.text import CountVectorizer\n",
    "vect = CountVectorizer()\n",
    "X_train_dtm = vect.fit_transform(X_train)\n",
    "X_test_dtm = vect.transform(X_test)\n",
    "print(X_train_dtm.shape, X_test_dtm.shape)"
   ]
  },
  {
   "cell_type": "markdown",
   "metadata": {},
   "source": [
    "## Task 5\n",
    "\n",
    "Fit a Multinomial Naive Bayes model to the training set, calculate the **predicted probabilites** (not the class predictions) for the testing set, and then calculate the **AUC**. Repeat this task using a logistic regression model to see which of the two models achieves a better AUC.\n",
    "\n",
    "- **Note:** Because McDonald's only cares about ranking the comments by the likelihood that they refer to rude service, **classification accuracy** is not the relevant evaluation metric. **Area Under the Curve (AUC)** is a more useful evaluation metric for this scenario, since it measures the ability of the classifier to assign higher predicted probabilities to positive instances than to negative instances.\n",
    "- **Hint:** [Evaluating a classification model](https://github.com/justmarkham/scikit-learn-videos/blob/master/09_classification_metrics.ipynb) explains how to calculate predicted probabilities and AUC, and my [blog post and video](http://www.dataschool.io/roc-curves-and-auc-explained/) explain AUC in-depth."
   ]
  },
  {
   "cell_type": "code",
   "execution_count": 9,
   "metadata": {
    "collapsed": false
   },
   "outputs": [
    {
     "name": "stdout",
     "output_type": "stream",
     "text": [
      "MultinomialNB AUC 0.841964711493\n"
     ]
    },
    {
     "data": {
      "text/plain": [
       "0.84196471149260854"
      ]
     },
     "execution_count": 9,
     "metadata": {},
     "output_type": "execute_result"
    },
    {
     "data": {
      "image/png": "[encoded data removed]",
      "text/plain": [
       "<matplotlib.figure.Figure at 0x7fcdc334a790>"
      ]
     },
     "metadata": {},
     "output_type": "display_data"
    }
   ],
   "source": [
    "from sklearn import metrics\n",
    "from sklearn.naive_bayes import MultinomialNB\n",
    "from sklearn.linear_model import LogisticRegression\n",
    "\n",
    "%matplotlib inline\n",
    "import matplotlib.pyplot as plt\n",
    "\n",
    "def fit_predict_auc(model, X_train_dtm, y_train, X_test_dtm, y_test, plot=False, verbose=True):\n",
    "    model.fit(X_train_dtm, y_train)\n",
    "    y_pred_proba = model.predict_proba(X_test_dtm)\n",
    "    fpr, tpr, thresholds = metrics.roc_curve(y_test, y_pred_proba[:, 1])\n",
    "    if plot:\n",
    "        plt.plot(fpr, tpr)\n",
    "        plt.xlim([0.0, 1.0])\n",
    "        plt.ylim([0.0, 1.0])\n",
    "        plt.title('ROC curve for %s classifier'%model.__class__.__name__)\n",
    "        plt.xlabel('False Positive Rate (1 - Specificity)')\n",
    "        plt.ylabel('True Positive Rate (Sensitivity)')\n",
    "        plt.grid(True)\n",
    "    \n",
    "    auc = metrics.auc(fpr, tpr)\n",
    "    \n",
    "    if verbose:\n",
    "        print(model.__class__.__name__, \"AUC\", auc)\n",
    "    return auc\n",
    "    \n",
    "fit_predict_auc(MultinomialNB(), X_train_dtm, y_train, X_test_dtm, y_test, plot=True)"
   ]
  },
  {
   "cell_type": "code",
   "execution_count": 10,
   "metadata": {
    "collapsed": false
   },
   "outputs": [
    {
     "name": "stdout",
     "output_type": "stream",
     "text": [
      "LogisticRegression AUC 0.823398505802\n"
     ]
    },
    {
     "data": {
      "text/plain": [
       "0.82339850580193941"
      ]
     },
     "execution_count": 10,
     "metadata": {},
     "output_type": "execute_result"
    },
    {
     "data": {
      "image/png": "[encoded data removed]",
      "text/plain": [
       "<matplotlib.figure.Figure at 0x7fcdbc6e97d0>"
      ]
     },
     "metadata": {},
     "output_type": "display_data"
    }
   ],
   "source": [
    "fit_predict_auc(LogisticRegression(), X_train_dtm, y_train, X_test_dtm, y_test, plot=True)"
   ]
  },
  {
   "cell_type": "markdown",
   "metadata": {},
   "source": [
    "## Task 6\n",
    "\n",
    "Using either Naive Bayes or logistic regression (whichever one had a better AUC in the previous step), try **tuning CountVectorizer** using some of the techniques we learned in class. Check the testing set **AUC** after each change, and find the set of parameters that increases AUC the most.\n",
    "\n",
    "- **Hint:** It is highly recommended that you adapt the **`tokenize_test()`** function from class for this purpose, since it will allow you to iterate quickly through different sets of parameters."
   ]
  },
  {
   "cell_type": "code",
   "execution_count": 11,
   "metadata": {
    "collapsed": false
   },
   "outputs": [
    {
     "name": "stdout",
     "output_type": "stream",
     "text": [
      "MultinomialNB AUC: 0.8420 Features:  7300 params: {}\n",
      "MultinomialNB AUC: 0.8497 Features:  7246 params: {'max_df': 0.2}\n",
      "MultinomialNB AUC: 0.8523 Features:  7269 params: {'max_df': 0.3}\n",
      "MultinomialNB AUC: 0.8475 Features:  7284 params: {'max_df': 0.4}\n",
      "MultinomialNB AUC: 0.8448 Features:  7291 params: {'max_df': 0.5}\n",
      "MultinomialNB AUC: 0.8468 Features:  7295 params: {'max_df': 0.6}\n",
      "MultinomialNB AUC: 0.8442 Features:  3500 params: {'min_df': 2}\n",
      "MultinomialNB AUC: 0.8430 Features:  2449 params: {'min_df': 3}\n",
      "MultinomialNB AUC: 0.8425 Features:  1977 params: {'min_df': 4}\n",
      "MultinomialNB AUC: 0.8545 Features:  3241 params: {'stop_words': 'english', 'min_df': 2}\n",
      "MultinomialNB AUC: 0.8536 Features:  2202 params: {'stop_words': 'english', 'min_df': 3}\n",
      "MultinomialNB AUC: 0.8574 Features:  1736 params: {'stop_words': 'english', 'min_df': 4}\n",
      "MultinomialNB AUC: 0.8551 Features:  3469 params: {'max_df': 0.3, 'min_df': 2}\n",
      "MultinomialNB AUC: 0.8514 Features:  2418 params: {'max_df': 0.3, 'min_df': 3}\n",
      "MultinomialNB AUC: 0.8522 Features:  1946 params: {'max_df': 0.3, 'min_df': 4}\n",
      "MultinomialNB AUC: 0.8475 Features:  1668 params: {'max_df': 0.3, 'min_df': 5}\n",
      "MultinomialNB AUC: 0.8471 Features:  2429 params: {'max_df': 0.35, 'min_df': 3}\n",
      "MultinomialNB AUC: 0.8472 Features:  2436 params: {'max_df': 0.45, 'min_df': 3}\n",
      "MultinomialNB AUC: 0.8440 Features:  2441 params: {'max_df': 0.55, 'min_df': 3}\n",
      "MultinomialNB AUC: 0.8419 Features:  2446 params: {'max_df': 0.65, 'min_df': 3}\n",
      "MultinomialNB AUC: 0.8184 Features: 57936 params: {'ngram_range': (1, 2)}\n",
      "MultinomialNB AUC: 0.8485 Features: 14454 params: {'ngram_range': (1, 2), 'max_df': 0.3, 'min_df': 2}\n",
      "MultinomialNB AUC: 0.8465 Features:  8155 params: {'ngram_range': (1, 2), 'max_df': 0.3, 'min_df': 3}\n",
      "MultinomialNB AUC: 0.8357 Features:  4456 params: {'ngram_range': (1, 2), 'max_df': 0.4, 'min_df': 5}\n",
      "MultinomialNB AUC: 0.8474 Features:  6810 params: {'ngram_range': (1, 2), 'stop_words': 'english', 'min_df': 2}\n",
      "MultinomialNB AUC: 0.8514 Features:  3500 params: {'ngram_range': (1, 2), 'stop_words': 'english', 'min_df': 3}\n",
      "MultinomialNB AUC: 0.8567 Features:  2441 params: {'ngram_range': (1, 2), 'stop_words': 'english', 'min_df': 4}\n",
      "MultinomialNB AUC: 0.8494 Features:  6806 params: {'ngram_range': (1, 2), 'stop_words': 'english', 'max_df': 0.3, 'min_df': 2}\n",
      "MultinomialNB AUC: 0.8514 Features:  3500 params: {'ngram_range': (1, 2), 'stop_words': 'english', 'max_df': 0.4, 'min_df': 3}\n",
      "MultinomialNB AUC: 0.8567 Features:  2441 params: {'ngram_range': (1, 2), 'stop_words': 'english', 'max_df': 0.4, 'min_df': 4}\n",
      "LogisticRegression AUC: 0.8234 Features:  7300 params: {}\n",
      "LogisticRegression AUC: 0.8108 Features:  7246 params: {'max_df': 0.2}\n",
      "LogisticRegression AUC: 0.8181 Features:  7269 params: {'max_df': 0.3}\n",
      "LogisticRegression AUC: 0.8213 Features:  7284 params: {'max_df': 0.4}\n",
      "LogisticRegression AUC: 0.8205 Features:  7291 params: {'max_df': 0.5}\n",
      "LogisticRegression AUC: 0.8197 Features:  7295 params: {'max_df': 0.6}\n",
      "LogisticRegression AUC: 0.8184 Features:  3500 params: {'min_df': 2}\n",
      "LogisticRegression AUC: 0.8136 Features:  2449 params: {'min_df': 3}\n",
      "LogisticRegression AUC: 0.8131 Features:  1977 params: {'min_df': 4}\n",
      "LogisticRegression AUC: 0.8293 Features:  3241 params: {'stop_words': 'english', 'min_df': 2}\n",
      "LogisticRegression AUC: 0.8258 Features:  2202 params: {'stop_words': 'english', 'min_df': 3}\n",
      "LogisticRegression AUC: 0.8242 Features:  1736 params: {'stop_words': 'english', 'min_df': 4}\n",
      "LogisticRegression AUC: 0.8139 Features:  3469 params: {'max_df': 0.3, 'min_df': 2}\n",
      "LogisticRegression AUC: 0.8098 Features:  2418 params: {'max_df': 0.3, 'min_df': 3}\n",
      "LogisticRegression AUC: 0.8093 Features:  1946 params: {'max_df': 0.3, 'min_df': 4}\n",
      "LogisticRegression AUC: 0.8055 Features:  1668 params: {'max_df': 0.3, 'min_df': 5}\n",
      "LogisticRegression AUC: 0.8155 Features:  2429 params: {'max_df': 0.35, 'min_df': 3}\n",
      "LogisticRegression AUC: 0.8117 Features:  2436 params: {'max_df': 0.45, 'min_df': 3}\n",
      "LogisticRegression AUC: 0.8111 Features:  2441 params: {'max_df': 0.55, 'min_df': 3}\n",
      "LogisticRegression AUC: 0.8138 Features:  2446 params: {'max_df': 0.65, 'min_df': 3}\n",
      "LogisticRegression AUC: 0.8498 Features: 57936 params: {'ngram_range': (1, 2)}\n",
      "LogisticRegression AUC: 0.8252 Features: 14454 params: {'ngram_range': (1, 2), 'max_df': 0.3, 'min_df': 2}\n",
      "LogisticRegression AUC: 0.8187 Features:  8155 params: {'ngram_range': (1, 2), 'max_df': 0.3, 'min_df': 3}\n",
      "LogisticRegression AUC: 0.8180 Features:  4456 params: {'ngram_range': (1, 2), 'max_df': 0.4, 'min_df': 5}\n",
      "LogisticRegression AUC: 0.8360 Features:  6810 params: {'ngram_range': (1, 2), 'stop_words': 'english', 'min_df': 2}\n",
      "LogisticRegression AUC: 0.8288 Features:  3500 params: {'ngram_range': (1, 2), 'stop_words': 'english', 'min_df': 3}\n",
      "LogisticRegression AUC: 0.8273 Features:  2441 params: {'ngram_range': (1, 2), 'stop_words': 'english', 'min_df': 4}\n",
      "LogisticRegression AUC: 0.8306 Features:  6806 params: {'ngram_range': (1, 2), 'stop_words': 'english', 'max_df': 0.3, 'min_df': 2}\n",
      "LogisticRegression AUC: 0.8288 Features:  3500 params: {'ngram_range': (1, 2), 'stop_words': 'english', 'max_df': 0.4, 'min_df': 3}\n",
      "LogisticRegression AUC: 0.8273 Features:  2441 params: {'ngram_range': (1, 2), 'stop_words': 'english', 'max_df': 0.4, 'min_df': 4}\n",
      "\n",
      "Best vectorizer:\n",
      "MultinomialNB AUC: 0.8574 Features:  1736 params: {'stop_words': 'english', 'min_df': 4}\n"
     ]
    },
    {
     "data": {
      "image/png": "[encoded data removed]",
      "text/plain": [
       "<matplotlib.figure.Figure at 0x7fcd6d01d610>"
      ]
     },
     "metadata": {},
     "output_type": "display_data"
    }
   ],
   "source": [
    "# define a function that accepts a vectorizer and calculates the accuracy\n",
    "def tokenize_test(vect, mdl_class=MultinomialNB, **kwargs):\n",
    "    \n",
    "    if \"plot\" in kwargs:\n",
    "        plot = kwargs[\"plot\"]\n",
    "        del kwargs[\"plot\"]\n",
    "    else:\n",
    "        plot = False\n",
    "    \n",
    "    vect = vect(**kwargs)\n",
    "    \n",
    "    # create document-term matrices using the vectorizer\n",
    "    X_train_dtm = vect.fit_transform(X_train)\n",
    "    X_test_dtm = vect.transform(X_test)\n",
    "       \n",
    "    mdl = mdl_class()\n",
    "    auc = fit_predict_auc(mdl, X_train_dtm, y_train, X_test_dtm, y_test, verbose = False, plot = plot)\n",
    "    print(mdl.__class__.__name__,\n",
    "          \"AUC:\", \"%.4f\"%auc,\n",
    "          'Features:', (\"%d\"%X_train_dtm.shape[1]).rjust(5),\n",
    "          \"params:\", kwargs)\n",
    "    return auc\n",
    "\n",
    "def set_best_vect(best_dict, vectorizer, **kwargs):\n",
    "    auc = tokenize_test(CountVectorizer, **kwargs)\n",
    "    if auc > best_dict['best_auc']:\n",
    "        best_dict['best_auc'] = auc\n",
    "        best_dict['best_vect'] = (vectorizer, kwargs)\n",
    "\n",
    "def evaluate_vectorizers():\n",
    "    best_dict = {'best_vect': None, 'best_auc': 0}\n",
    "    for mdl_class in [MultinomialNB, LogisticRegression]:\n",
    "        set_best_vect(best_dict, CountVectorizer, mdl_class = mdl_class)\n",
    "        set_best_vect(best_dict, CountVectorizer, mdl_class = mdl_class, max_df=0.2)\n",
    "        set_best_vect(best_dict, CountVectorizer, mdl_class = mdl_class, max_df=0.3)\n",
    "        set_best_vect(best_dict, CountVectorizer, mdl_class = mdl_class, max_df=0.4)\n",
    "        set_best_vect(best_dict, CountVectorizer, mdl_class = mdl_class, max_df=0.5)\n",
    "        set_best_vect(best_dict, CountVectorizer, mdl_class = mdl_class, max_df=0.6)\n",
    "        set_best_vect(best_dict, CountVectorizer, mdl_class = mdl_class, min_df=2)\n",
    "        set_best_vect(best_dict, CountVectorizer, mdl_class = mdl_class, min_df=3)\n",
    "        set_best_vect(best_dict, CountVectorizer, mdl_class = mdl_class, min_df=4)\n",
    "        set_best_vect(best_dict, CountVectorizer, mdl_class = mdl_class, min_df=2, stop_words='english')\n",
    "        set_best_vect(best_dict, CountVectorizer, mdl_class = mdl_class, min_df=3, stop_words='english')\n",
    "        set_best_vect(best_dict, CountVectorizer, mdl_class = mdl_class, min_df=4, stop_words='english')\n",
    "        set_best_vect(best_dict, CountVectorizer, mdl_class = mdl_class, min_df=2, max_df=0.3)\n",
    "        set_best_vect(best_dict, CountVectorizer, mdl_class = mdl_class, min_df=3, max_df=0.3)\n",
    "        set_best_vect(best_dict, CountVectorizer, mdl_class = mdl_class, min_df=4, max_df=0.3)\n",
    "        set_best_vect(best_dict, CountVectorizer, mdl_class = mdl_class, min_df=5, max_df=0.3)\n",
    "        set_best_vect(best_dict, CountVectorizer, mdl_class = mdl_class, min_df=3, max_df=0.35)\n",
    "        set_best_vect(best_dict, CountVectorizer, mdl_class = mdl_class, min_df=3, max_df=0.45)\n",
    "        set_best_vect(best_dict, CountVectorizer, mdl_class = mdl_class, min_df=3, max_df=0.55)\n",
    "        set_best_vect(best_dict, CountVectorizer, mdl_class = mdl_class, min_df=3, max_df=0.65)\n",
    "        set_best_vect(best_dict, CountVectorizer, mdl_class = mdl_class, ngram_range=(1, 2))\n",
    "        set_best_vect(best_dict, CountVectorizer, mdl_class = mdl_class, ngram_range=(1, 2), min_df=2, max_df=0.3)\n",
    "        set_best_vect(best_dict, CountVectorizer, mdl_class = mdl_class, ngram_range=(1, 2), min_df=3, max_df=0.3)\n",
    "        set_best_vect(best_dict, CountVectorizer, mdl_class = mdl_class, ngram_range=(1, 2), min_df=5, max_df=0.4)\n",
    "        set_best_vect(best_dict, CountVectorizer, mdl_class = mdl_class,\n",
    "                      ngram_range=(1, 2), min_df=2, stop_words='english')\n",
    "        set_best_vect(best_dict, CountVectorizer, mdl_class = mdl_class,\n",
    "                      ngram_range=(1, 2), min_df=3, stop_words='english')\n",
    "        set_best_vect(best_dict, CountVectorizer, mdl_class = mdl_class,\n",
    "                      ngram_range=(1, 2), min_df=4, stop_words='english')\n",
    "        set_best_vect(best_dict, CountVectorizer, mdl_class = mdl_class,\n",
    "                      ngram_range=(1, 2), min_df=2, max_df=0.3, stop_words='english')\n",
    "        set_best_vect(best_dict, CountVectorizer, mdl_class = mdl_class,\n",
    "                      ngram_range=(1, 2), min_df=3, max_df=0.4, stop_words='english')\n",
    "        set_best_vect(best_dict, CountVectorizer, mdl_class = mdl_class,\n",
    "                      ngram_range=(1, 2), min_df=4, max_df=0.4, stop_words='english')\n",
    "\n",
    "    print()\n",
    "    print(\"Best vectorizer:\")\n",
    "    tokenize_test(best_dict['best_vect'][0], plot=True, **best_dict['best_vect'][1])\n",
    "evaluate_vectorizers()"
   ]
  },
  {
   "cell_type": "markdown",
   "metadata": {},
   "source": [
    "###### Task 7 (Challenge)\n",
    "\n",
    "The **city** column might be predictive of the response, but we are not currently using it as a feature. Let's see whether we can increase the AUC by adding it to the model:\n",
    "\n",
    "1. Create a new DataFrame column, **review_city**, that concatenates the **review** text with the **city** text. One easy way to combine string columns in pandas is by using the [`Series.str.cat()`](http://pandas.pydata.org/pandas-docs/stable/generated/pandas.Series.str.cat.html) method. Make sure to use the **space character** as a separator, as well as replacing **null city values** with a reasonable string value (such as 'na').\n",
    "2. Redefine X as the **review_city** column, and re-split X and y into training and testing sets.\n",
    "3. When you run **`tokenize_test()`**, CountVectorizer will simply treat the city as an extra word in the review, and thus it will automatically be included in the model! Check to see whether it increased or decreased the AUC of your **best model**."
   ]
  },
  {
   "cell_type": "code",
   "execution_count": 12,
   "metadata": {
    "collapsed": false
   },
   "outputs": [],
   "source": [
    "X_new = X.str.cat(mcd.city, sep=\" \", na_rep='na')\n",
    "mcd.insert(len(mcd.columns), \"review_city\", X_new)"
   ]
  },
  {
   "cell_type": "code",
   "execution_count": 13,
   "metadata": {
    "collapsed": false
   },
   "outputs": [
    {
     "name": "stdout",
     "output_type": "stream",
     "text": [
      "(1103,)\n",
      "(368,)\n"
     ]
    }
   ],
   "source": [
    "X_train, X_test, y_train, y_test = train_test_split(mcd.review_city, y, random_state=1)\n",
    "print(X_train.shape)\n",
    "print(X_test.shape)"
   ]
  },
  {
   "cell_type": "code",
   "execution_count": 14,
   "metadata": {
    "collapsed": false
   },
   "outputs": [
    {
     "name": "stdout",
     "output_type": "stream",
     "text": [
      "MultinomialNB AUC: 0.8426 Features:  7303 params: {}\n",
      "MultinomialNB AUC: 0.8499 Features:  7247 params: {'max_df': 0.2}\n",
      "MultinomialNB AUC: 0.8510 Features:  7272 params: {'max_df': 0.3}\n",
      "MultinomialNB AUC: 0.8480 Features:  7287 params: {'max_df': 0.4}\n",
      "MultinomialNB AUC: 0.8444 Features:  7294 params: {'max_df': 0.5}\n",
      "MultinomialNB AUC: 0.8463 Features:  7298 params: {'max_df': 0.6}\n",
      "MultinomialNB AUC: 0.8455 Features:  3505 params: {'min_df': 2}\n",
      "MultinomialNB AUC: 0.8456 Features:  2455 params: {'min_df': 3}\n",
      "MultinomialNB AUC: 0.8443 Features:  1984 params: {'min_df': 4}\n",
      "MultinomialNB AUC: 0.8543 Features:  3246 params: {'stop_words': 'english', 'min_df': 2}\n",
      "MultinomialNB AUC: 0.8546 Features:  2208 params: {'stop_words': 'english', 'min_df': 3}\n",
      "MultinomialNB AUC: 0.8597 Features:  1743 params: {'stop_words': 'english', 'min_df': 4}\n",
      "MultinomialNB AUC: 0.8548 Features:  3474 params: {'max_df': 0.3, 'min_df': 2}\n",
      "MultinomialNB AUC: 0.8532 Features:  2424 params: {'max_df': 0.3, 'min_df': 3}\n",
      "MultinomialNB AUC: 0.8539 Features:  1953 params: {'max_df': 0.3, 'min_df': 4}\n",
      "MultinomialNB AUC: 0.8480 Features:  1676 params: {'max_df': 0.3, 'min_df': 5}\n",
      "MultinomialNB AUC: 0.8482 Features:  2435 params: {'max_df': 0.35, 'min_df': 3}\n",
      "MultinomialNB AUC: 0.8480 Features:  2442 params: {'max_df': 0.45, 'min_df': 3}\n",
      "MultinomialNB AUC: 0.8456 Features:  2447 params: {'max_df': 0.55, 'min_df': 3}\n",
      "MultinomialNB AUC: 0.8430 Features:  2452 params: {'max_df': 0.65, 'min_df': 3}\n",
      "MultinomialNB AUC: 0.8188 Features: 58828 params: {'ngram_range': (1, 2)}\n",
      "MultinomialNB AUC: 0.8469 Features: 14581 params: {'ngram_range': (1, 2), 'max_df': 0.3, 'min_df': 2}\n",
      "MultinomialNB AUC: 0.8459 Features:  8205 params: {'ngram_range': (1, 2), 'max_df': 0.3, 'min_df': 3}\n",
      "MultinomialNB AUC: 0.8351 Features:  4479 params: {'ngram_range': (1, 2), 'max_df': 0.4, 'min_df': 5}\n",
      "MultinomialNB AUC: 0.8474 Features:  6938 params: {'ngram_range': (1, 2), 'stop_words': 'english', 'min_df': 2}\n",
      "MultinomialNB AUC: 0.8532 Features:  3545 params: {'ngram_range': (1, 2), 'stop_words': 'english', 'min_df': 3}\n",
      "MultinomialNB AUC: 0.8591 Features:  2468 params: {'ngram_range': (1, 2), 'stop_words': 'english', 'min_df': 4}\n",
      "MultinomialNB AUC: 0.8499 Features:  6934 params: {'ngram_range': (1, 2), 'stop_words': 'english', 'max_df': 0.3, 'min_df': 2}\n",
      "MultinomialNB AUC: 0.8532 Features:  3545 params: {'ngram_range': (1, 2), 'stop_words': 'english', 'max_df': 0.4, 'min_df': 3}\n",
      "MultinomialNB AUC: 0.8591 Features:  2468 params: {'ngram_range': (1, 2), 'stop_words': 'english', 'max_df': 0.4, 'min_df': 4}\n",
      "LogisticRegression AUC: 0.8207 Features:  7303 params: {}\n",
      "LogisticRegression AUC: 0.8085 Features:  7247 params: {'max_df': 0.2}\n",
      "LogisticRegression AUC: 0.8150 Features:  7272 params: {'max_df': 0.3}\n",
      "LogisticRegression AUC: 0.8174 Features:  7287 params: {'max_df': 0.4}\n",
      "LogisticRegression AUC: 0.8161 Features:  7294 params: {'max_df': 0.5}\n",
      "LogisticRegression AUC: 0.8169 Features:  7298 params: {'max_df': 0.6}\n",
      "LogisticRegression AUC: 0.8168 Features:  3505 params: {'min_df': 2}\n",
      "LogisticRegression AUC: 0.8125 Features:  2455 params: {'min_df': 3}\n",
      "LogisticRegression AUC: 0.8126 Features:  1984 params: {'min_df': 4}\n",
      "LogisticRegression AUC: 0.8252 Features:  3246 params: {'stop_words': 'english', 'min_df': 2}\n",
      "LogisticRegression AUC: 0.8215 Features:  2208 params: {'stop_words': 'english', 'min_df': 3}\n",
      "LogisticRegression AUC: 0.8195 Features:  1743 params: {'stop_words': 'english', 'min_df': 4}\n",
      "LogisticRegression AUC: 0.8121 Features:  3474 params: {'max_df': 0.3, 'min_df': 2}\n",
      "LogisticRegression AUC: 0.8082 Features:  2424 params: {'max_df': 0.3, 'min_df': 3}\n",
      "LogisticRegression AUC: 0.8077 Features:  1953 params: {'max_df': 0.3, 'min_df': 4}\n",
      "LogisticRegression AUC: 0.8021 Features:  1676 params: {'max_df': 0.3, 'min_df': 5}\n",
      "LogisticRegression AUC: 0.8126 Features:  2435 params: {'max_df': 0.35, 'min_df': 3}\n",
      "LogisticRegression AUC: 0.8086 Features:  2442 params: {'max_df': 0.45, 'min_df': 3}\n",
      "LogisticRegression AUC: 0.8085 Features:  2447 params: {'max_df': 0.55, 'min_df': 3}\n",
      "LogisticRegression AUC: 0.8119 Features:  2452 params: {'max_df': 0.65, 'min_df': 3}\n",
      "LogisticRegression AUC: 0.8494 Features: 58828 params: {'ngram_range': (1, 2)}\n",
      "LogisticRegression AUC: 0.8252 Features: 14581 params: {'ngram_range': (1, 2), 'max_df': 0.3, 'min_df': 2}\n",
      "LogisticRegression AUC: 0.8184 Features:  8205 params: {'ngram_range': (1, 2), 'max_df': 0.3, 'min_df': 3}\n",
      "LogisticRegression AUC: 0.8185 Features:  4479 params: {'ngram_range': (1, 2), 'max_df': 0.4, 'min_df': 5}\n",
      "LogisticRegression AUC: 0.8329 Features:  6938 params: {'ngram_range': (1, 2), 'stop_words': 'english', 'min_df': 2}\n",
      "LogisticRegression AUC: 0.8267 Features:  3545 params: {'ngram_range': (1, 2), 'stop_words': 'english', 'min_df': 3}\n",
      "LogisticRegression AUC: 0.8256 Features:  2468 params: {'ngram_range': (1, 2), 'stop_words': 'english', 'min_df': 4}\n",
      "LogisticRegression AUC: 0.8279 Features:  6934 params: {'ngram_range': (1, 2), 'stop_words': 'english', 'max_df': 0.3, 'min_df': 2}\n",
      "LogisticRegression AUC: 0.8267 Features:  3545 params: {'ngram_range': (1, 2), 'stop_words': 'english', 'max_df': 0.4, 'min_df': 3}\n",
      "LogisticRegression AUC: 0.8256 Features:  2468 params: {'ngram_range': (1, 2), 'stop_words': 'english', 'max_df': 0.4, 'min_df': 4}\n",
      "\n",
      "Best vectorizer:\n",
      "MultinomialNB AUC: 0.8597 Features:  1743 params: {'stop_words': 'english', 'min_df': 4}\n"
     ]
    },
    {
     "data": {
      "image/png": "[encoded data removed]",
      "text/plain": [
       "<matplotlib.figure.Figure at 0x7fcd74df4ed0>"
      ]
     },
     "metadata": {},
     "output_type": "display_data"
    }
   ],
   "source": [
    "evaluate_vectorizers()"
   ]
  },
  {
   "cell_type": "markdown",
   "metadata": {},
   "source": [
    "## Task 8 (Challenge)\n",
    "\n",
    "The **policies_violated:confidence** column may be useful, since it essentially represents a measurement of the training data quality. Let's see whether we can improve the AUC by only training the model using the highest-quality rows!\n",
    "\n",
    "To accomplish this, your first sub-task is to **calculate the mean confidence score for each row**, and then store those mean scores in a new column. For example, the confidence scores for the first row are `1.0\\r\\n0.6667\\r\\n0.6667`, so you should calculate a mean of `0.7778`. Here are the suggested steps:\n",
    "\n",
    "1. Using the [`Series.str.split()`](http://pandas.pydata.org/pandas-docs/stable/generated/pandas.Series.str.split.html) method, convert the **policies_violated:confidence** column into lists of one or more \"confidence scores\". Save the results as a new DataFrame column called **confidence_list**.\n",
    "2. Define a function that calculates the mean of a list of numbers, and pass that function to the [`Series.apply()`](http://pandas.pydata.org/pandas-docs/stable/generated/pandas.Series.apply.html) method of the **confidence_list** column. That will calculate the mean confidence score for each row. Save those scores in a new DataFrame column called **confidence_mean**.\n",
    "    - **Hint:** This [code snippet](http://chrisalbon.com/python/pandas_apply_operations_to_dataframes.html) may help you to understand the `Series.apply()` method."
   ]
  },
  {
   "cell_type": "code",
   "execution_count": 15,
   "metadata": {
    "collapsed": false
   },
   "outputs": [
    {
     "data": {
      "text/html": [
       "<div>\n",
       "<table border=\"1\" class=\"dataframe\">\n",
       "  <thead>\n",
       "    <tr style=\"text-align: right;\">\n",
       "      <th></th>\n",
       "      <th>_unit_id</th>\n",
       "      <th>_golden</th>\n",
       "      <th>_unit_state</th>\n",
       "      <th>_trusted_judgments</th>\n",
       "      <th>_last_judgment_at</th>\n",
       "      <th>policies_violated</th>\n",
       "      <th>policies_violated:confidence</th>\n",
       "      <th>city</th>\n",
       "      <th>policies_violated_gold</th>\n",
       "      <th>review</th>\n",
       "      <th>Unnamed: 10</th>\n",
       "      <th>rude</th>\n",
       "      <th>review_city</th>\n",
       "      <th>confidence_list</th>\n",
       "    </tr>\n",
       "  </thead>\n",
       "  <tbody>\n",
       "    <tr>\n",
       "      <th>0</th>\n",
       "      <td>679455653</td>\n",
       "      <td>False</td>\n",
       "      <td>finalized</td>\n",
       "      <td>3</td>\n",
       "      <td>2/21/15 0:36</td>\n",
       "      <td>RudeService\\nOrderProblem\\nFilthy</td>\n",
       "      <td>1.0\\n0.6667\\n0.6667</td>\n",
       "      <td>Atlanta</td>\n",
       "      <td>NaN</td>\n",
       "      <td>I'm not a huge mcds lover, but I've been to be...</td>\n",
       "      <td>NaN</td>\n",
       "      <td>1</td>\n",
       "      <td>I'm not a huge mcds lover, but I've been to be...</td>\n",
       "      <td>[1.0, 0.6667, 0.6667]</td>\n",
       "    </tr>\n",
       "    <tr>\n",
       "      <th>1</th>\n",
       "      <td>679455654</td>\n",
       "      <td>False</td>\n",
       "      <td>finalized</td>\n",
       "      <td>3</td>\n",
       "      <td>2/21/15 0:27</td>\n",
       "      <td>RudeService</td>\n",
       "      <td>1</td>\n",
       "      <td>Atlanta</td>\n",
       "      <td>NaN</td>\n",
       "      <td>Terrible customer service. ŒæI came in at 9:30...</td>\n",
       "      <td>NaN</td>\n",
       "      <td>1</td>\n",
       "      <td>Terrible customer service. ŒæI came in at 9:30...</td>\n",
       "      <td>[1]</td>\n",
       "    </tr>\n",
       "  </tbody>\n",
       "</table>\n",
       "</div>"
      ],
      "text/plain": [
       "    _unit_id _golden _unit_state  _trusted_judgments _last_judgment_at  \\\n",
       "0  679455653   False   finalized                   3      2/21/15 0:36   \n",
       "1  679455654   False   finalized                   3      2/21/15 0:27   \n",
       "\n",
       "                   policies_violated policies_violated:confidence     city  \\\n",
       "0  RudeService\\nOrderProblem\\nFilthy          1.0\\n0.6667\\n0.6667  Atlanta   \n",
       "1                        RudeService                            1  Atlanta   \n",
       "\n",
       "   policies_violated_gold                                             review  \\\n",
       "0                     NaN  I'm not a huge mcds lover, but I've been to be...   \n",
       "1                     NaN  Terrible customer service. ŒæI came in at 9:30...   \n",
       "\n",
       "   Unnamed: 10  rude                                        review_city  \\\n",
       "0          NaN     1  I'm not a huge mcds lover, but I've been to be...   \n",
       "1          NaN     1  Terrible customer service. ŒæI came in at 9:30...   \n",
       "\n",
       "         confidence_list  \n",
       "0  [1.0, 0.6667, 0.6667]  \n",
       "1                    [1]  "
      ]
     },
     "execution_count": 15,
     "metadata": {},
     "output_type": "execute_result"
    }
   ],
   "source": [
    "confidence_column = mcd[\"policies_violated:confidence\"].str.split(\"\\n\")\n",
    "mcd.insert(len(mcd.columns), \"confidence_list\", confidence_column)\n",
    "mcd.head(2)"
   ]
  },
  {
   "cell_type": "code",
   "execution_count": 16,
   "metadata": {
    "collapsed": false
   },
   "outputs": [
    {
     "data": {
      "text/html": [
       "<div>\n",
       "<table border=\"1\" class=\"dataframe\">\n",
       "  <thead>\n",
       "    <tr style=\"text-align: right;\">\n",
       "      <th></th>\n",
       "      <th>_unit_id</th>\n",
       "      <th>_golden</th>\n",
       "      <th>_unit_state</th>\n",
       "      <th>_trusted_judgments</th>\n",
       "      <th>_last_judgment_at</th>\n",
       "      <th>policies_violated</th>\n",
       "      <th>policies_violated:confidence</th>\n",
       "      <th>city</th>\n",
       "      <th>policies_violated_gold</th>\n",
       "      <th>review</th>\n",
       "      <th>Unnamed: 10</th>\n",
       "      <th>rude</th>\n",
       "      <th>review_city</th>\n",
       "      <th>confidence_list</th>\n",
       "      <th>confidence_mean</th>\n",
       "    </tr>\n",
       "  </thead>\n",
       "  <tbody>\n",
       "    <tr>\n",
       "      <th>0</th>\n",
       "      <td>679455653</td>\n",
       "      <td>False</td>\n",
       "      <td>finalized</td>\n",
       "      <td>3</td>\n",
       "      <td>2/21/15 0:36</td>\n",
       "      <td>RudeService\\nOrderProblem\\nFilthy</td>\n",
       "      <td>1.0\\n0.6667\\n0.6667</td>\n",
       "      <td>Atlanta</td>\n",
       "      <td>NaN</td>\n",
       "      <td>I'm not a huge mcds lover, but I've been to be...</td>\n",
       "      <td>NaN</td>\n",
       "      <td>1</td>\n",
       "      <td>I'm not a huge mcds lover, but I've been to be...</td>\n",
       "      <td>[1.0, 0.6667, 0.6667]</td>\n",
       "      <td>0.7778</td>\n",
       "    </tr>\n",
       "    <tr>\n",
       "      <th>1</th>\n",
       "      <td>679455654</td>\n",
       "      <td>False</td>\n",
       "      <td>finalized</td>\n",
       "      <td>3</td>\n",
       "      <td>2/21/15 0:27</td>\n",
       "      <td>RudeService</td>\n",
       "      <td>1</td>\n",
       "      <td>Atlanta</td>\n",
       "      <td>NaN</td>\n",
       "      <td>Terrible customer service. ŒæI came in at 9:30...</td>\n",
       "      <td>NaN</td>\n",
       "      <td>1</td>\n",
       "      <td>Terrible customer service. ŒæI came in at 9:30...</td>\n",
       "      <td>[1]</td>\n",
       "      <td>1.0000</td>\n",
       "    </tr>\n",
       "    <tr>\n",
       "      <th>2</th>\n",
       "      <td>679455655</td>\n",
       "      <td>False</td>\n",
       "      <td>finalized</td>\n",
       "      <td>3</td>\n",
       "      <td>2/21/15 0:26</td>\n",
       "      <td>SlowService\\nOrderProblem</td>\n",
       "      <td>1.0\\n1.0</td>\n",
       "      <td>Atlanta</td>\n",
       "      <td>NaN</td>\n",
       "      <td>First they \"lost\" my order, actually they gave...</td>\n",
       "      <td>NaN</td>\n",
       "      <td>0</td>\n",
       "      <td>First they \"lost\" my order, actually they gave...</td>\n",
       "      <td>[1.0, 1.0]</td>\n",
       "      <td>1.0000</td>\n",
       "    </tr>\n",
       "  </tbody>\n",
       "</table>\n",
       "</div>"
      ],
      "text/plain": [
       "    _unit_id _golden _unit_state  _trusted_judgments _last_judgment_at  \\\n",
       "0  679455653   False   finalized                   3      2/21/15 0:36   \n",
       "1  679455654   False   finalized                   3      2/21/15 0:27   \n",
       "2  679455655   False   finalized                   3      2/21/15 0:26   \n",
       "\n",
       "                   policies_violated policies_violated:confidence     city  \\\n",
       "0  RudeService\\nOrderProblem\\nFilthy          1.0\\n0.6667\\n0.6667  Atlanta   \n",
       "1                        RudeService                            1  Atlanta   \n",
       "2          SlowService\\nOrderProblem                     1.0\\n1.0  Atlanta   \n",
       "\n",
       "   policies_violated_gold                                             review  \\\n",
       "0                     NaN  I'm not a huge mcds lover, but I've been to be...   \n",
       "1                     NaN  Terrible customer service. ŒæI came in at 9:30...   \n",
       "2                     NaN  First they \"lost\" my order, actually they gave...   \n",
       "\n",
       "   Unnamed: 10  rude                                        review_city  \\\n",
       "0          NaN     1  I'm not a huge mcds lover, but I've been to be...   \n",
       "1          NaN     1  Terrible customer service. ŒæI came in at 9:30...   \n",
       "2          NaN     0  First they \"lost\" my order, actually they gave...   \n",
       "\n",
       "         confidence_list  confidence_mean  \n",
       "0  [1.0, 0.6667, 0.6667]           0.7778  \n",
       "1                    [1]           1.0000  \n",
       "2             [1.0, 1.0]           1.0000  "
      ]
     },
     "execution_count": 16,
     "metadata": {},
     "output_type": "execute_result"
    }
   ],
   "source": [
    "calc_mean = lambda x: sum([float(y) for y in x])/len(x)\n",
    "mean_confidence_column = mcd.confidence_list.apply(calc_mean)\n",
    "mcd.insert(len(mcd.columns), \"confidence_mean\", mean_confidence_column)\n",
    "mcd.head(3)"
   ]
  },
  {
   "cell_type": "markdown",
   "metadata": {},
   "source": [
    "Your second sub-task is to **create a new DataFrame with only the highest-quality rows**, meaning those with a mean score of 1, and then repeat the model building and evaluation process with the new DataFrame. Here are the suggested steps:\n",
    "\n",
    "1. Create a new DataFrame that only includes the rows with a **confidence_mean** of 1. Compare the shapes of the original and new DataFrames.\n",
    "2. Redefine X and y using the new DataFrame, and re-split X and y into training and testing sets.\n",
    "3. Check to see whether this process increased or decreased the AUC of your **best model**.\n",
    "4. Try **re-tuning** CountVectorizer to maximize the AUC, to see if this strategy was worthwhile."
   ]
  },
  {
   "cell_type": "code",
   "execution_count": 17,
   "metadata": {
    "collapsed": false
   },
   "outputs": [
    {
     "name": "stdout",
     "output_type": "stream",
     "text": [
      "(1471, 15)\n",
      "(785, 15)\n"
     ]
    }
   ],
   "source": [
    "print(mcd.shape)\n",
    "mcd_hq = mcd[mcd.confidence_mean == 1]\n",
    "print(mcd_hq.shape)"
   ]
  },
  {
   "cell_type": "code",
   "execution_count": 18,
   "metadata": {
    "collapsed": false
   },
   "outputs": [
    {
     "name": "stdout",
     "output_type": "stream",
     "text": [
      "(588,)\n",
      "(197,)\n"
     ]
    }
   ],
   "source": [
    "X = mcd_hq.review\n",
    "y = mcd_hq.rude\n",
    "\n",
    "X_train, X_test, y_train, y_test = train_test_split(X, y, random_state=1)\n",
    "print(X_train.shape)\n",
    "print(X_test.shape)"
   ]
  },
  {
   "cell_type": "code",
   "execution_count": 19,
   "metadata": {
    "collapsed": false
   },
   "outputs": [
    {
     "name": "stdout",
     "output_type": "stream",
     "text": [
      "MultinomialNB AUC: 0.8552 Features:  4894 params: {}\n",
      "MultinomialNB AUC: 0.8408 Features:  4847 params: {'max_df': 0.2}\n",
      "MultinomialNB AUC: 0.8555 Features:  4872 params: {'max_df': 0.3}\n",
      "MultinomialNB AUC: 0.8572 Features:  4880 params: {'max_df': 0.4}\n",
      "MultinomialNB AUC: 0.8557 Features:  4885 params: {'max_df': 0.5}\n",
      "MultinomialNB AUC: 0.8546 Features:  4891 params: {'max_df': 0.6}\n",
      "MultinomialNB AUC: 0.8585 Features:  2226 params: {'min_df': 2}\n",
      "MultinomialNB AUC: 0.8746 Features:  1551 params: {'min_df': 3}\n",
      "MultinomialNB AUC: 0.8716 Features:  1233 params: {'min_df': 4}\n",
      "MultinomialNB AUC: 0.8512 Features:  1986 params: {'stop_words': 'english', 'min_df': 2}\n",
      "MultinomialNB AUC: 0.8705 Features:  1328 params: {'stop_words': 'english', 'min_df': 3}\n",
      "MultinomialNB AUC: 0.8715 Features:  1015 params: {'stop_words': 'english', 'min_df': 4}\n",
      "MultinomialNB AUC: 0.8515 Features:  2204 params: {'max_df': 0.3, 'min_df': 2}\n",
      "MultinomialNB AUC: 0.8697 Features:  1529 params: {'max_df': 0.3, 'min_df': 3}\n",
      "MultinomialNB AUC: 0.8659 Features:  1211 params: {'max_df': 0.3, 'min_df': 4}\n",
      "MultinomialNB AUC: 0.8581 Features:  1000 params: {'max_df': 0.3, 'min_df': 5}\n",
      "MultinomialNB AUC: 0.8713 Features:  1531 params: {'max_df': 0.35, 'min_df': 3}\n",
      "MultinomialNB AUC: 0.8699 Features:  1542 params: {'max_df': 0.45, 'min_df': 3}\n",
      "MultinomialNB AUC: 0.8700 Features:  1545 params: {'max_df': 0.55, 'min_df': 3}\n",
      "MultinomialNB AUC: 0.8706 Features:  1548 params: {'max_df': 0.65, 'min_df': 3}\n",
      "MultinomialNB AUC: 0.7903 Features: 32764 params: {'ngram_range': (1, 2)}\n",
      "MultinomialNB AUC: 0.8365 Features:  7533 params: {'ngram_range': (1, 2), 'max_df': 0.3, 'min_df': 2}\n",
      "MultinomialNB AUC: 0.8581 Features:  4115 params: {'ngram_range': (1, 2), 'max_df': 0.3, 'min_df': 3}\n",
      "MultinomialNB AUC: 0.8537 Features:  2171 params: {'ngram_range': (1, 2), 'max_df': 0.4, 'min_df': 5}\n",
      "MultinomialNB AUC: 0.8552 Features:  3425 params: {'ngram_range': (1, 2), 'stop_words': 'english', 'min_df': 2}\n",
      "MultinomialNB AUC: 0.8718 Features:  1797 params: {'ngram_range': (1, 2), 'stop_words': 'english', 'min_df': 3}\n",
      "MultinomialNB AUC: 0.8748 Features:  1239 params: {'ngram_range': (1, 2), 'stop_words': 'english', 'min_df': 4}\n",
      "MultinomialNB AUC: 0.8508 Features:  3422 params: {'ngram_range': (1, 2), 'stop_words': 'english', 'max_df': 0.3, 'min_df': 2}\n",
      "MultinomialNB AUC: 0.8718 Features:  1797 params: {'ngram_range': (1, 2), 'stop_words': 'english', 'max_df': 0.4, 'min_df': 3}\n",
      "MultinomialNB AUC: 0.8748 Features:  1239 params: {'ngram_range': (1, 2), 'stop_words': 'english', 'max_df': 0.4, 'min_df': 4}\n",
      "LogisticRegression AUC: 0.9134 Features:  4894 params: {}\n",
      "LogisticRegression AUC: 0.8907 Features:  4847 params: {'max_df': 0.2}\n",
      "LogisticRegression AUC: 0.9113 Features:  4872 params: {'max_df': 0.3}\n",
      "LogisticRegression AUC: 0.9189 Features:  4880 params: {'max_df': 0.4}\n",
      "LogisticRegression AUC: 0.9109 Features:  4885 params: {'max_df': 0.5}\n",
      "LogisticRegression AUC: 0.9073 Features:  4891 params: {'max_df': 0.6}\n",
      "LogisticRegression AUC: 0.9141 Features:  2226 params: {'min_df': 2}\n",
      "LogisticRegression AUC: 0.9130 Features:  1551 params: {'min_df': 3}\n",
      "LogisticRegression AUC: 0.9093 Features:  1233 params: {'min_df': 4}\n",
      "LogisticRegression AUC: 0.9258 Features:  1986 params: {'stop_words': 'english', 'min_df': 2}\n",
      "LogisticRegression AUC: 0.9292 Features:  1328 params: {'stop_words': 'english', 'min_df': 3}\n",
      "LogisticRegression AUC: 0.9213 Features:  1015 params: {'stop_words': 'english', 'min_df': 4}\n",
      "LogisticRegression AUC: 0.9128 Features:  2204 params: {'max_df': 0.3, 'min_df': 2}\n",
      "LogisticRegression AUC: 0.9158 Features:  1529 params: {'max_df': 0.3, 'min_df': 3}\n",
      "LogisticRegression AUC: 0.9101 Features:  1211 params: {'max_df': 0.3, 'min_df': 4}\n",
      "LogisticRegression AUC: 0.9030 Features:  1000 params: {'max_df': 0.3, 'min_df': 5}\n",
      "LogisticRegression AUC: 0.9193 Features:  1531 params: {'max_df': 0.35, 'min_df': 3}\n",
      "LogisticRegression AUC: 0.9131 Features:  1542 params: {'max_df': 0.45, 'min_df': 3}\n",
      "LogisticRegression AUC: 0.9140 Features:  1545 params: {'max_df': 0.55, 'min_df': 3}\n",
      "LogisticRegression AUC: 0.9070 Features:  1548 params: {'max_df': 0.65, 'min_df': 3}\n",
      "LogisticRegression AUC: 0.9178 Features: 32764 params: {'ngram_range': (1, 2)}\n",
      "LogisticRegression AUC: 0.9149 Features:  7533 params: {'ngram_range': (1, 2), 'max_df': 0.3, 'min_df': 2}\n",
      "LogisticRegression AUC: 0.9185 Features:  4115 params: {'ngram_range': (1, 2), 'max_df': 0.3, 'min_df': 3}\n",
      "LogisticRegression AUC: 0.9106 Features:  2171 params: {'ngram_range': (1, 2), 'max_df': 0.4, 'min_df': 5}\n",
      "LogisticRegression AUC: 0.9347 Features:  3425 params: {'ngram_range': (1, 2), 'stop_words': 'english', 'min_df': 2}\n",
      "LogisticRegression AUC: 0.9333 Features:  1797 params: {'ngram_range': (1, 2), 'stop_words': 'english', 'min_df': 3}\n",
      "LogisticRegression AUC: 0.9289 Features:  1239 params: {'ngram_range': (1, 2), 'stop_words': 'english', 'min_df': 4}\n",
      "LogisticRegression AUC: 0.9297 Features:  3422 params: {'ngram_range': (1, 2), 'stop_words': 'english', 'max_df': 0.3, 'min_df': 2}\n",
      "LogisticRegression AUC: 0.9333 Features:  1797 params: {'ngram_range': (1, 2), 'stop_words': 'english', 'max_df': 0.4, 'min_df': 3}\n",
      "LogisticRegression AUC: 0.9289 Features:  1239 params: {'ngram_range': (1, 2), 'stop_words': 'english', 'max_df': 0.4, 'min_df': 4}\n",
      "\n",
      "Best vectorizer:\n",
      "LogisticRegression AUC: 0.9347 Features:  3425 params: {'ngram_range': (1, 2), 'stop_words': 'english', 'min_df': 2}\n"
     ]
    },
    {
     "data": {
      "image/png": "[encoded data removed]",
      "text/plain": [
       "<matplotlib.figure.Figure at 0x7fcd6d0702d0>"
      ]
     },
     "metadata": {},
     "output_type": "display_data"
    }
   ],
   "source": [
    "evaluate_vectorizers()"
   ]
  },
  {
   "cell_type": "markdown",
   "metadata": {},
   "source": [
    "## Task 9 (Challenge)\n",
    "\n",
    "New comments have been submitted to the McDonald's website, and you need to **score them with the likelihood** that they are referring to rude service.\n",
    "\n",
    "1. Before making predictions on out-of-sample data, it is important to re-train your model on all relevant data using the tuning parameters and preprocessing steps that produced the best AUC above.\n",
    "    - In other words, X should be defined using either **all rows** or **only those rows with a confidence_mean of 1**, whichever produced a better AUC above.\n",
    "    - X should refer to either the **review column** or the **review_city column**, whichever produced a better AUC above.\n",
    "    - CountVectorizer should be instantiated with the **tuning parameters** that produced the best AUC above.\n",
    "    - **`train_test_split()`** should not be used during this process.\n",
    "2. Build a document-term matrix (from X) called **X_dtm**, and examine its shape.\n",
    "3. Read the new comments stored in **`mcdonalds_new.csv`** into a DataFrame called **new_comments**, and examine it.\n",
    "4. If your model uses a **review_city** column, create that column in the new_comments DataFrame. (Otherwise, skip this step.)\n",
    "5. Build a document_term matrix (from the **new_comments** DataFrame) called **new_dtm**, and examine its shape.\n",
    "6. Train your best model (Naive Bayes or logistic regression) using **X_dtm** and **y**.\n",
    "7. Predict the \"rude probability\" for each comment in **new_dtm**, and store the probabilities in an object called **new_pred_prob**.\n",
    "8. Print the **full text** for each new comment alongside its **\"rude probability\"**. (You may need to [increase the max_colwidth](http://pandas.pydata.org/pandas-docs/stable/options.html) to see the full text.) Examine the results, and comment on how well you think the model performed!"
   ]
  },
  {
   "cell_type": "code",
   "execution_count": 20,
   "metadata": {
    "collapsed": false
   },
   "outputs": [],
   "source": [
    "X_train = mcd_hq.review\n",
    "y_train = mcd_hq.rude\n",
    "\n",
    "vect = CountVectorizer(ngram_range = (1, 2), min_df = 2, stop_words = 'english')\n",
    "\n",
    "# create document-term matrix\n",
    "X_dtm = vect.fit_transform(X_train)"
   ]
  },
  {
   "cell_type": "code",
   "execution_count": 21,
   "metadata": {
    "collapsed": false
   },
   "outputs": [
    {
     "data": {
      "text/html": [
       "<div>\n",
       "<table border=\"1\" class=\"dataframe\">\n",
       "  <thead>\n",
       "    <tr style=\"text-align: right;\">\n",
       "      <th></th>\n",
       "      <th>city</th>\n",
       "      <th>review</th>\n",
       "    </tr>\n",
       "  </thead>\n",
       "  <tbody>\n",
       "    <tr>\n",
       "      <th>0</th>\n",
       "      <td>Las Vegas</td>\n",
       "      <td>Went through the drive through and ordered a #...</td>\n",
       "    </tr>\n",
       "    <tr>\n",
       "      <th>1</th>\n",
       "      <td>Chicago</td>\n",
       "      <td>Phenomenal experience. Efficient and friendly ...</td>\n",
       "    </tr>\n",
       "  </tbody>\n",
       "</table>\n",
       "</div>"
      ],
      "text/plain": [
       "        city                                             review\n",
       "0  Las Vegas  Went through the drive through and ordered a #...\n",
       "1    Chicago  Phenomenal experience. Efficient and friendly ..."
      ]
     },
     "execution_count": 21,
     "metadata": {},
     "output_type": "execute_result"
    }
   ],
   "source": [
    "# alternative: read file into Pandas using a relative path\n",
    "path = '../data/mcdonalds_new.csv'\n",
    "mcd_new_raw = pd.read_csv(path)\n",
    "mcd_new_raw.head(2)"
   ]
  },
  {
   "cell_type": "code",
   "execution_count": 22,
   "metadata": {
    "collapsed": false
   },
   "outputs": [
    {
     "name": "stdout",
     "output_type": "stream",
     "text": [
      "(10, 4407)\n"
     ]
    }
   ],
   "source": [
    "new_dtm = vect.transform(mcd_new_raw.review)\n",
    "print(new_dtm.shape)"
   ]
  },
  {
   "cell_type": "code",
   "execution_count": 23,
   "metadata": {
    "collapsed": false
   },
   "outputs": [],
   "source": [
    "model = LogisticRegression()\n",
    "model.fit(X_dtm, y_train)\n",
    "new_pred_prob = model.predict_proba(new_dtm)"
   ]
  },
  {
   "cell_type": "code",
   "execution_count": 24,
   "metadata": {
    "collapsed": false
   },
   "outputs": [],
   "source": [
    "newdf = pd.DataFrame(data={'review': mcd_new_raw.review, 'rude_probability': new_pred_prob[:,1]})"
   ]
  },
  {
   "cell_type": "code",
   "execution_count": 25,
   "metadata": {
    "collapsed": false,
    "scrolled": true
   },
   "outputs": [
    {
     "data": {
      "text/html": [
       "<div>\n",
       "<table border=\"1\" class=\"dataframe\">\n",
       "  <thead>\n",
       "    <tr style=\"text-align: right;\">\n",
       "      <th></th>\n",
       "      <th>review</th>\n",
       "      <th>rude_probability</th>\n",
       "    </tr>\n",
       "  </thead>\n",
       "  <tbody>\n",
       "    <tr>\n",
       "      <th>0</th>\n",
       "      <td>Went through the drive through and ordered a #10 (cripsy sweet chili chicken wrap) without fries- the lady couldn't understand that I did not want fries and charged me for them anyways. I got the wrong order- a chicken sandwich and a large fries- my boyfriend took it back inside to get the correct order. The gentleman that ordered the chicken sandwich was standing there as well and she took the bag from my bf- glanced at the insides and handed it to the man without even offering to replace. I mean with all the scares about viruses going around... ugh DISGUSTING SERVICE. Then when she gave him the correct order my wrap not only had the sweet chili sauce on it, but the nasty (just not my first choice) ranch dressing on it!!!! I mean seriously... how lazy can you get!!!! I worked at McDonalds in Texas when I was 17 for about 8 months and I guess I was spoiled with good management. This was absolutely ridiculous. I was beyond disappointed.</td>\n",
       "      <td>0.036505</td>\n",
       "    </tr>\n",
       "    <tr>\n",
       "      <th>1</th>\n",
       "      <td>Phenomenal experience. Efficient and friendly staff. Clean restrooms, good, fast service and bilingual staff. One of the best restaurants in the chain.</td>\n",
       "      <td>0.249408</td>\n",
       "    </tr>\n",
       "    <tr>\n",
       "      <th>2</th>\n",
       "      <td>Ghetto lady helped me at the drive thru. Very rude and disrespectful to the co workers. Never coming back. Yuck!</td>\n",
       "      <td>0.629216</td>\n",
       "    </tr>\n",
       "    <tr>\n",
       "      <th>3</th>\n",
       "      <td>Close to my workplace. It was well manged before. Now it's OK. The parking can be tight sometimes. Like all McDonald's, prices are getting expensive.</td>\n",
       "      <td>0.035478</td>\n",
       "    </tr>\n",
       "    <tr>\n",
       "      <th>4</th>\n",
       "      <td>I've made at least 3 visits to this particular location just because it's right next to my office building.. and all my experience have been consistently bad.  There are a few helpers taking your orders throughout the drive-thru route and they are the worst. They rush you in placing an order and gets impatient once the order gets a tad bit complicated.  Don't even bother changing your mind oh NO! They will glare at you and snap at you if you want to change something.  I understand its FAST food, but I want my order placed right.  Not going back if I can help it.</td>\n",
       "      <td>0.075513</td>\n",
       "    </tr>\n",
       "    <tr>\n",
       "      <th>5</th>\n",
       "      <td>Why did I revisited this McDonald's  again.  I needed to use the restroom  facilities  and the women's bathroom didn't have soap, the floor was wet,  the bathroom stink, and the toilets were nasty. This McDonald's is very nasty.</td>\n",
       "      <td>0.026023</td>\n",
       "    </tr>\n",
       "    <tr>\n",
       "      <th>6</th>\n",
       "      <td>This specific McDonald's is the bar I hold all other fast food joints to now. Been working in this area for 3 years now and gone to this location many times for drive-through pickup. Service is always fast, food comes out right, and the staff is extremely warm and polite.</td>\n",
       "      <td>0.294112</td>\n",
       "    </tr>\n",
       "    <tr>\n",
       "      <th>7</th>\n",
       "      <td>My friend and I stopped in to get a late night snack and we were refused service. The store claimed to be 24 hours and the manager was standing right there doing paper work but would not help us. The cashier was only concerned with doing things for the drive thru and said that the manager said he wasn't allowed to help us. We thought it was a joke at first but when realized it wasn't we said goodbye and they just let us leave. I work in a restaurant and this is by far the worst service I have ever seen. I know it was late and maybe they didn't want to be there but it was completely ridiculous. I think the manager should be fired.</td>\n",
       "      <td>0.989780</td>\n",
       "    </tr>\n",
       "    <tr>\n",
       "      <th>8</th>\n",
       "      <td>Friendly people but completely unable to deliver what was ordered at the drive through.  Out of my last 6 orders they got it right 3 times.  Incidentally, the billing was always correct - they just could not read the order and deliver.  Very frustrating!</td>\n",
       "      <td>0.043413</td>\n",
       "    </tr>\n",
       "    <tr>\n",
       "      <th>9</th>\n",
       "      <td>Having visited many McDonald's over the years, I have to say that this one is the most efficient one ever! Even though it is still fast food, the service at the drive-thru is the best. They rarely make a mistake and I never see anyone parked in the drive-thru slots where they bring food out because they don't have it ready. So, if you like McDonald's fast food, it doesn't get any better than this.</td>\n",
       "      <td>0.039260</td>\n",
       "    </tr>\n",
       "  </tbody>\n",
       "</table>\n",
       "</div>"
      ],
      "text/plain": [
       "                                                                                                                                                                                                                                                                                                                                                                                                                                                                                                                                                                                                                                                                                                                                                                                                                                                                                                                                                                                  review  \\\n",
       "0  Went through the drive through and ordered a #10 (cripsy sweet chili chicken wrap) without fries- the lady couldn't understand that I did not want fries and charged me for them anyways. I got the wrong order- a chicken sandwich and a large fries- my boyfriend took it back inside to get the correct order. The gentleman that ordered the chicken sandwich was standing there as well and she took the bag from my bf- glanced at the insides and handed it to the man without even offering to replace. I mean with all the scares about viruses going around... ugh DISGUSTING SERVICE. Then when she gave him the correct order my wrap not only had the sweet chili sauce on it, but the nasty (just not my first choice) ranch dressing on it!!!! I mean seriously... how lazy can you get!!!! I worked at McDonalds in Texas when I was 17 for about 8 months and I guess I was spoiled with good management. This was absolutely ridiculous. I was beyond disappointed.   \n",
       "1                                                                                                                                                                                                                                                                                                                                                                                                                                                                                                                                                                                                                                                                                                                                                                                                                                Phenomenal experience. Efficient and friendly staff. Clean restrooms, good, fast service and bilingual staff. One of the best restaurants in the chain.   \n",
       "2                                                                                                                                                                                                                                                                                                                                                                                                                                                                                                                                                                                                                                                                                                                                                                                                                                                                       Ghetto lady helped me at the drive thru. Very rude and disrespectful to the co workers. Never coming back. Yuck!   \n",
       "3                                                                                                                                                                                                                                                                                                                                                                                                                                                                                                                                                                                                                                                                                                                                                                                                                                  Close to my workplace. It was well manged before. Now it's OK. The parking can be tight sometimes. Like all McDonald's, prices are getting expensive.   \n",
       "4                                                                                                                                                                                                                                                                                                                                                                                               I've made at least 3 visits to this particular location just because it's right next to my office building.. and all my experience have been consistently bad.  There are a few helpers taking your orders throughout the drive-thru route and they are the worst. They rush you in placing an order and gets impatient once the order gets a tad bit complicated.  Don't even bother changing your mind oh NO! They will glare at you and snap at you if you want to change something.  I understand its FAST food, but I want my order placed right.  Not going back if I can help it.   \n",
       "5                                                                                                                                                                                                                                                                                                                                                                                                                                                                                                                                                                                                                                                                                                                                                   Why did I revisited this McDonald's  again.  I needed to use the restroom  facilities  and the women's bathroom didn't have soap, the floor was wet,  the bathroom stink, and the toilets were nasty. This McDonald's is very nasty.   \n",
       "6                                                                                                                                                                                                                                                                                                                                                                                                                                                                                                                                                                                                                                                                                                       This specific McDonald's is the bar I hold all other fast food joints to now. Been working in this area for 3 years now and gone to this location many times for drive-through pickup. Service is always fast, food comes out right, and the staff is extremely warm and polite.   \n",
       "7                                                                                                                                                                                                                                                                                                                          My friend and I stopped in to get a late night snack and we were refused service. The store claimed to be 24 hours and the manager was standing right there doing paper work but would not help us. The cashier was only concerned with doing things for the drive thru and said that the manager said he wasn't allowed to help us. We thought it was a joke at first but when realized it wasn't we said goodbye and they just let us leave. I work in a restaurant and this is by far the worst service I have ever seen. I know it was late and maybe they didn't want to be there but it was completely ridiculous. I think the manager should be fired.   \n",
       "8                                                                                                                                                                                                                                                                                                                                                                                                                                                                                                                                                                                                                                                                                                                         Friendly people but completely unable to deliver what was ordered at the drive through.  Out of my last 6 orders they got it right 3 times.  Incidentally, the billing was always correct - they just could not read the order and deliver.  Very frustrating!   \n",
       "9                                                                                                                                                                                                                                                                                                                                                                                                                                                                                                                                                                       Having visited many McDonald's over the years, I have to say that this one is the most efficient one ever! Even though it is still fast food, the service at the drive-thru is the best. They rarely make a mistake and I never see anyone parked in the drive-thru slots where they bring food out because they don't have it ready. So, if you like McDonald's fast food, it doesn't get any better than this.   \n",
       "\n",
       "   rude_probability  \n",
       "0          0.036505  \n",
       "1          0.249408  \n",
       "2          0.629216  \n",
       "3          0.035478  \n",
       "4          0.075513  \n",
       "5          0.026023  \n",
       "6          0.294112  \n",
       "7          0.989780  \n",
       "8          0.043413  \n",
       "9          0.039260  "
      ]
     },
     "execution_count": 25,
     "metadata": {},
     "output_type": "execute_result"
    }
   ],
   "source": [
    "pd.set_option('max_colwidth',8000)\n",
    "newdf.head(10)"
   ]
  },
  {
   "cell_type": "markdown",
   "metadata": {},
   "source": [
    "Since we only have 10 examples here, I will try to annotate them before looking at the rude_probability.\n",
    "\n",
    "0 = Wrong order, filthy\n",
    "\n",
    "1 = Good review\n",
    "\n",
    "2 = Rude (the word is even used in the text)\n",
    "\n",
    "3 = Small complaints (not directed towards people working there)\n",
    "\n",
    "4 = Could be considered rude (impatient, rush people to order)\n",
    "\n",
    "5 = Filthy\n",
    "\n",
    "6 = Good review\n",
    "\n",
    "7 = Could be considered rude (not taking order even though they should)\n",
    "\n",
    "8 = Wrong order\n",
    "\n",
    "9 = Good review\n",
    "\n",
    "\n",
    "There are three reviews which could be considered rude (2, 4 and 7).\n",
    "\n",
    "In my opinion review 2 should have had a much higher score than (0.62)\n",
    "Detecting review 4 with 0.03 might be considered way to low.\n",
    "Detecting review 7 with 0.99 could be considered ok.\n",
    "\n",
    "Detecting rudeness is like detecting human emotion. Depending who is asked to annotate you can get large variations.\n",
    "Regarding the question how well our model is doing:\n",
    "\n",
    "Depending on what threshold has been set review 2 & 7 could have been detected as being rude. Review 4 would have been missed. To really evaluate if our model is good it would have helped to have more testing data. If MC Donalds only looks at reviews with rude_probability > 0.95 then the model would be bad since only one of three reviews would have been chosen.\n"
   ]
  }
 ],
 "metadata": {
  "kernelspec": {
   "display_name": "Python 2",
   "language": "python",
   "name": "python2"
  },
  "language_info": {
   "codemirror_mode": {
    "name": "ipython",
    "version": 2
   },
   "file_extension": ".py",
   "mimetype": "text/x-python",
   "name": "python",
   "nbconvert_exporter": "python",
   "pygments_lexer": "ipython2",
   "version": "2.7.6"
  }
 },
 "nbformat": 4,
 "nbformat_minor": 0
}
